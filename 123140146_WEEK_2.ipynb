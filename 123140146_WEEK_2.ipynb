{
  "nbformat": 4,
  "nbformat_minor": 0,
  "metadata": {
    "colab": {
      "provenance": [],
      "authorship_tag": "ABX9TyM/v4Z5aA1wQ/Jd/j1CTHfl",
      "include_colab_link": true
    },
    "kernelspec": {
      "name": "python3",
      "display_name": "Python 3"
    },
    "language_info": {
      "name": "python"
    }
  },
  "cells": [
    {
      "cell_type": "markdown",
      "metadata": {
        "id": "view-in-github",
        "colab_type": "text"
      },
      "source": [
        "<a href=\"https://colab.research.google.com/github/SmollJesteR/Praktikum-PBO-/blob/main/123140146_WEEK_2.ipynb\" target=\"_parent\"><img src=\"https://colab.research.google.com/assets/colab-badge.svg\" alt=\"Open In Colab\"/></a>"
      ]
    },
    {
      "cell_type": "code",
      "execution_count": 2,
      "metadata": {
        "colab": {
          "base_uri": "https://localhost:8080/"
        },
        "id": "yX7xgz5Tmw0A",
        "outputId": "f0fd26dc-30ab-4299-eba8-94e0d3bf99a0"
      },
      "outputs": [
        {
          "output_type": "stream",
          "name": "stdout",
          "text": [
            "jenis kendaraan : Darat\n",
            "kecepatan maksimum : 420\n",
            "merk : Bugatti\n",
            "pintu : 2\n",
            "tenaga kuda : 820\n",
            "harga : 17500\n",
            "Mobil siap Balap Wir ! KACAUUUUUUU\n"
          ]
        }
      ],
      "source": [
        "#MUHAMMAD ROYHAN ALFITRA\n",
        "#123140146\n",
        "#RD\n",
        "\n",
        "class kendaraan :\n",
        "  def __init__(self,type,kecepatan_maksimum):\n",
        "    self.type = type\n",
        "    self.kecepatan_maksimum = kecepatan_maksimum\n",
        "\n",
        "  def info_kendaraan(self):\n",
        "    print(f\"jenis kendaraan : {self.type}\")\n",
        "    print(f\"kecepatan maksimum : {self.kecepatan_maksimum}\")\n",
        "\n",
        "  def bergerak(self):\n",
        "    print(\"kendaraan sedangn bergerak...\")\n",
        "\n",
        "class Mobil(kendaraan):\n",
        "  def __init__(self,type,kecepatan_maksimum,merk, pintu):\n",
        "    super().__init__(type,kecepatan_maksimum)\n",
        "    self.merk = merk\n",
        "    self.pintu = pintu\n",
        "\n",
        "  def info_mobil(self):\n",
        "    super().info_kendaraan()\n",
        "    print(f\"merk : {self.merk}\")\n",
        "    print(f\"pintu : {self.pintu}\")\n",
        "\n",
        "  def bunyikan_klakson():\n",
        "    print(\"meep meep nibbers!\")\n",
        "\n",
        "class MobilSport(Mobil):\n",
        "  def __init__(self,type,kecepatan_maksimum,merk,pintu,tenaga_kuda, harga):\n",
        "    super().__init__(type,kecepatan_maksimum,merk,pintu)\n",
        "    self.tenaga_kuda = tenaga_kuda\n",
        "    self.harga = harga\n",
        "\n",
        "  def get_tenaga_kuda(self):\n",
        "    return self.tenaga_kuda\n",
        "\n",
        "  def set_tenaga_kuda(self,val):\n",
        "    if val > 0:\n",
        "      self.tenaga_kuda = val\n",
        "    else:\n",
        "      print(\"tenaga kuda tidak boleh dibawah 0!\")\n",
        "\n",
        "  def get_harga(self):\n",
        "    return self.harga\n",
        "\n",
        "  def set_harga(self,val):\n",
        "    if val > 0:\n",
        "      self.harga = val\n",
        "    else:\n",
        "      print(\"mobil ga boleh gratis! \")\n",
        "\n",
        "  def info_mobil_sport(self):\n",
        "    self.info_mobil()\n",
        "    print(f\"tenaga kuda : {self.tenaga_kuda}\")\n",
        "    print(f\"harga : {self.harga}\")\n",
        "\n",
        "  def mode_balap(self):\n",
        "    print(\"Mobil siap Balap Wir ! KACAUUUUUUU\")\n",
        "\n",
        "mobil_sport = MobilSport(\"Darat\", 420, \"Bugatti\", 2, 820, 17500)\n",
        "mobil_sport.info_mobil_sport()\n",
        "mobil_sport.mode_balap()\n",
        "\n",
        "print(\"Tenaga Kuda Awal: \", mobil_sport.get_tenaga_kuda())\n",
        "mobil_sport.set_tenaga_kuda(500)\n",
        "print(\"Tenaga Kuda Akhir: \", mobil_sport.get_tenaga_kuda())"
      ]
    }
  ]
}